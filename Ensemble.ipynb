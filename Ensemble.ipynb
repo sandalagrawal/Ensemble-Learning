{
 "cells": [
  {
   "cell_type": "code",
   "execution_count": 1,
   "id": "dbe46603",
   "metadata": {},
   "outputs": [],
   "source": [
    "# A weak learner is a model that may have errors."
   ]
  },
  {
   "cell_type": "code",
   "execution_count": 2,
   "id": "1e0a9ea7",
   "metadata": {},
   "outputs": [],
   "source": [
    "# We are Importing some libraries to build the models\n",
    "\n",
    "import numpy as np # use for numerical operations\n",
    "import pandas as pd # use for dataframe\n",
    "\n",
    "# Here we are imporing classifiers libraries\n",
    "from sklearn.tree import DecisionTreeClassifier # Decision Tree classifier\n",
    "from sklearn.linear_model import LogisticRegression # Logistic Regression\n",
    "from sklearn.svm import SVC # Support Vector Classifier\n",
    "from sklearn.neighbors import KNeighborsClassifier # KNN Classifier\n"
   ]
  },
  {
   "cell_type": "code",
   "execution_count": 3,
   "id": "5ccce5b0",
   "metadata": {},
   "outputs": [
    {
     "name": "stdout",
     "output_type": "stream",
     "text": [
      "    Height (in cms)  Weight (in kgs) T Shirt Size\n",
      "0             158.0             58.0            M\n",
      "1             158.0             59.0            M\n",
      "2             158.0             63.0            M\n",
      "3             160.0             59.0            M\n",
      "4             160.0             60.0            M\n",
      "5             189.0              NaN            M\n",
      "6             100.0             67.0          NaN\n",
      "7             168.0             66.0            L\n",
      "8             170.0             63.0            L\n",
      "9             170.0             64.0            L\n",
      "10            200.0              NaN            M\n",
      "11            210.0             89.0          NaN\n",
      "12            163.0             60.0            M\n",
      "13            163.0             61.0            M\n",
      "14            160.0             64.0            L\n",
      "15            163.0             64.0            L\n",
      "16            165.0             61.0            L\n",
      "17            163.0              NaN          NaN\n",
      "18            165.0             61.0          NaN\n",
      "19              NaN             64.0          NaN\n",
      "20            168.0              NaN            L\n",
      "21            165.0             62.0            L\n",
      "22            165.0             65.0            L\n",
      "23            168.0             62.0            L\n",
      "24            168.0             63.0            L\n",
      "25              NaN             67.0            L\n",
      "26            210.0              NaN            M\n",
      "27              NaN             89.0            L\n",
      "28            170.0             68.0            L\n"
     ]
    }
   ],
   "source": [
    "#Reading the dataset\n",
    "dataset = pd.read_csv('Ensemble.csv')\n",
    "\n",
    "print(dataset)\n",
    "\n",
    "# We have update the dataset by puting some incomplete or missing informations.\n",
    "# Those are represented by NaN (Not a Number) or Null values."
   ]
  },
  {
   "cell_type": "code",
   "execution_count": 4,
   "id": "532e00f3",
   "metadata": {},
   "outputs": [
    {
     "data": {
      "text/plain": [
       "(29, 3)"
      ]
     },
     "execution_count": 4,
     "metadata": {},
     "output_type": "execute_result"
    }
   ],
   "source": [
    "# You can know the size of the dataset the by the following syntax\n",
    "dataset.shape # 29 29 Rows and 03 columns"
   ]
  },
  {
   "cell_type": "code",
   "execution_count": 5,
   "id": "c1456294",
   "metadata": {},
   "outputs": [
    {
     "name": "stdout",
     "output_type": "stream",
     "text": [
      "    Height (in cms)  Weight (in kgs) T Shirt Size\n",
      "0             158.0             58.0            M\n",
      "1             158.0             59.0            M\n",
      "2             158.0             63.0            M\n",
      "3             160.0             59.0            M\n",
      "4             160.0             60.0            M\n",
      "7             168.0             66.0            L\n",
      "8             170.0             63.0            L\n",
      "9             170.0             64.0            L\n",
      "12            163.0             60.0            M\n",
      "13            163.0             61.0            M\n",
      "14            160.0             64.0            L\n",
      "15            163.0             64.0            L\n",
      "16            165.0             61.0            L\n",
      "21            165.0             62.0            L\n",
      "22            165.0             65.0            L\n",
      "23            168.0             62.0            L\n",
      "24            168.0             63.0            L\n",
      "28            170.0             68.0            L\n"
     ]
    }
   ],
   "source": [
    "# In this dataset we have incomplete or missing information\n",
    "# we need to remove those rows and columns which are having NaN.\n",
    "# We can use dropna () method to drop null values based rows and columns\n",
    "\n",
    "# drop all rows with any NaN values\n",
    "\n",
    "ds1 = dataset.dropna()\n",
    "print(ds1)\n",
    "\n",
    "# ds1 is complete dataset which are not having by any NaN value"
   ]
  },
  {
   "cell_type": "code",
   "execution_count": 6,
   "id": "1937ec1b",
   "metadata": {},
   "outputs": [
    {
     "data": {
      "text/plain": [
       "(18, 3)"
      ]
     },
     "execution_count": 6,
     "metadata": {},
     "output_type": "execute_result"
    }
   ],
   "source": [
    "# Let us check total number of rows in correct or without null values into updated dataset\n",
    "ds1.shape"
   ]
  },
  {
   "cell_type": "code",
   "execution_count": 7,
   "id": "c3219b0c",
   "metadata": {},
   "outputs": [
    {
     "name": "stdout",
     "output_type": "stream",
     "text": [
      "    Height (in cms)  Weight (in kgs) T Shirt Size\n",
      "0             158.0             58.0            M\n",
      "1             158.0             59.0            M\n",
      "2             158.0             63.0            M\n",
      "3             160.0             59.0            M\n",
      "4             160.0             60.0            M\n",
      "5             189.0             60.0            M\n",
      "6             100.0             67.0            M\n",
      "7             168.0             66.0            L\n",
      "8             170.0             63.0            L\n",
      "9             170.0             64.0            L\n",
      "10            200.0             64.0            M\n",
      "11            210.0             89.0            M\n",
      "12            163.0             60.0            M\n",
      "13            163.0             61.0            M\n",
      "14            160.0             64.0            L\n",
      "15            163.0             64.0            L\n",
      "16            165.0             61.0            L\n",
      "17            163.0             61.0            L\n",
      "18            165.0             61.0            L\n",
      "19            165.0             64.0            L\n",
      "20            168.0             64.0            L\n",
      "21            165.0             62.0            L\n",
      "22            165.0             65.0            L\n",
      "23            168.0             62.0            L\n",
      "24            168.0             63.0            L\n",
      "25            168.0             67.0            L\n",
      "26            210.0             67.0            M\n",
      "27            210.0             89.0            L\n",
      "28            170.0             68.0            L\n"
     ]
    }
   ],
   "source": [
    "# There are two ways to make your dataset as complete \n",
    "# 1. To remove NaN or null values (DS1)\n",
    "# 2. To replace some values instead of NaN values (DS2)\n",
    "\n",
    "# fill the values using forward fill (ffill) method \n",
    "# meaning that the value NaN will be updated by or replaced by its previous or upper value\n",
    "ds2 = dataset.fillna (method = 'ffill')\n",
    "print (ds2)"
   ]
  },
  {
   "cell_type": "code",
   "execution_count": 8,
   "id": "cfc009e8",
   "metadata": {},
   "outputs": [
    {
     "data": {
      "text/plain": [
       "(29, 3)"
      ]
     },
     "execution_count": 8,
     "metadata": {},
     "output_type": "execute_result"
    }
   ],
   "source": [
    "#Dataset variable contains the data including NaN values\n",
    "# DS1- A dataset variable which does not contain NaN value\n",
    "# DS2- A dataset variable which is using all rows and columns by filling or updating NaN values\n",
    "\n",
    "ds2.shape \n",
    "# Now the dataset ds2 contains no null or NaN values"
   ]
  },
  {
   "cell_type": "code",
   "execution_count": 9,
   "id": "8fb86b6c",
   "metadata": {},
   "outputs": [
    {
     "data": {
      "text/plain": [
       "Index(['Height (in cms)', 'Weight (in kgs)', 'T Shirt Size'], dtype='object')"
      ]
     },
     "execution_count": 9,
     "metadata": {},
     "output_type": "execute_result"
    }
   ],
   "source": [
    "# DS1- 18 rows\n",
    "# DS2- 29 rows without NaN values\n",
    "\n",
    "ds2.columns\n",
    "# ds2 is our updated or filter based dataset \n",
    "# while dataset variable contains all data along with NaN values"
   ]
  },
  {
   "cell_type": "code",
   "execution_count": 10,
   "id": "f5fe2a73",
   "metadata": {},
   "outputs": [
    {
     "name": "stdout",
     "output_type": "stream",
     "text": [
      "[[158.  58.]\n",
      " [158.  59.]\n",
      " [158.  63.]\n",
      " [160.  59.]\n",
      " [160.  60.]\n",
      " [189.  60.]\n",
      " [100.  67.]\n",
      " [168.  66.]\n",
      " [170.  63.]\n",
      " [170.  64.]\n",
      " [200.  64.]\n",
      " [210.  89.]\n",
      " [163.  60.]\n",
      " [163.  61.]\n",
      " [160.  64.]\n",
      " [163.  64.]\n",
      " [165.  61.]\n",
      " [163.  61.]\n",
      " [165.  61.]\n",
      " [165.  64.]\n",
      " [168.  64.]\n",
      " [165.  62.]\n",
      " [165.  65.]\n",
      " [168.  62.]\n",
      " [168.  63.]\n",
      " [168.  67.]\n",
      " [210.  67.]\n",
      " [210.  89.]\n",
      " [170.  68.]]\n",
      "['M' 'M' 'M' 'M' 'M' 'M' 'M' 'L' 'L' 'L' 'M' 'M' 'M' 'M' 'L' 'L' 'L' 'L'\n",
      " 'L' 'L' 'L' 'L' 'L' 'L' 'L' 'L' 'M' 'L' 'L']\n"
     ]
    }
   ],
   "source": [
    "X = ds2.iloc[:, [0, 1]].values # Independent variable (Height and weight)\n",
    "y = ds2.iloc[:, 2].values # Dependent variable or target class (T-Shirt Size)\n",
    "\n",
    "print (X)\n",
    "print (y)"
   ]
  },
  {
   "cell_type": "code",
   "execution_count": 11,
   "id": "c6f19c07",
   "metadata": {},
   "outputs": [
    {
     "name": "stdout",
     "output_type": "stream",
     "text": [
      "['M' 'M' 'M' 'M' 'M' 'M' 'M' 'L' 'L' 'L' 'M' 'M' 'M' 'M' 'L' 'L' 'L' 'L'\n",
      " 'L' 'L' 'L' 'L' 'L' 'L' 'L' 'L' 'M' 'L' 'L']\n",
      "[1 1 1 1 1 1 1 0 0 0 1 1 1 1 0 0 0 0 0 0 0 0 0 0 0 0 1 0 0]\n"
     ]
    }
   ],
   "source": [
    "# As we know that our T-Shirt Size values are non-integer and if we need to perform some \n",
    "# mathematical Calculations as per need, so we have to transform the non-integer values \n",
    "# into integer values\n",
    "\n",
    "# This will encode your non-integer values into integer values\n",
    "\n",
    "# Import LabelEncoder class from preprocessing library from sklearn package\n",
    "#from sklearn import preprocessing\n",
    "from sklearn.preprocessing import LabelEncoder\n",
    "\n",
    "#creating labelEncoder\n",
    "le = LabelEncoder() # le is an object of labelencoder class\n",
    "\n",
    "# By defauly we have values in M/L of Y variable\n",
    "y_new = y # now y_new will contain m/l\n",
    "\n",
    "#y_new is variable for transformed values\n",
    "# Converting string labels into numbers\n",
    "y_new=le.fit_transform(y_new) # passing the T-Shirt Size values (M/L) which is represented by y variable\n",
    "\n",
    "# we are replacing y actual values into 0 and 1.\n",
    "\n",
    "print (y) # values in M/L\n",
    "\n",
    "print(y_new) # now y variable will contain information in 0 and 1.\n",
    "\n",
    "# 1 means M and 0 means L"
   ]
  },
  {
   "cell_type": "code",
   "execution_count": 12,
   "id": "cd183639",
   "metadata": {},
   "outputs": [],
   "source": [
    "# we have transformed our M/L values into 1 and 0\n",
    "# Now update y variable by updated values\n",
    "\n",
    "y = y_new # we are replacing y values by 0 and 1 using y_new variable"
   ]
  },
  {
   "cell_type": "code",
   "execution_count": 13,
   "id": "771f7bd5",
   "metadata": {},
   "outputs": [],
   "source": [
    "# So far prepared dataset and transformed non-interger values to integer values\n",
    "# Next step is to split your dataset into training and testing\n",
    "\n",
    "# We are Splitting the dataset into the Training set and Test set\n",
    "from sklearn.model_selection import train_test_split\n",
    "X_train, X_test, y_train, y_test = train_test_split(X, y, test_size = 0.45, random_state = 50)"
   ]
  },
  {
   "cell_type": "code",
   "execution_count": 14,
   "id": "b4179c82",
   "metadata": {},
   "outputs": [
    {
     "name": "stdout",
     "output_type": "stream",
     "text": [
      "(15, 2)\n",
      "(14, 2)\n"
     ]
    }
   ],
   "source": [
    "print (X_train.shape) # size of the training data\n",
    "print (X_test.shape) # Size of the testing data"
   ]
  },
  {
   "cell_type": "code",
   "execution_count": 15,
   "id": "254e5de8",
   "metadata": {},
   "outputs": [],
   "source": [
    "# Now we are building our models\n",
    "\n",
    "# Here we are imporing classifiers libraries\n",
    "from sklearn.tree import DecisionTreeClassifier # Decision Tree classifier\n",
    "from sklearn.linear_model import LogisticRegression # Logistic Regression\n",
    "from sklearn.svm import SVC # Support Vector Classifier\n",
    "from sklearn.neighbors import KNeighborsClassifier # KNN Classifier\n",
    "\n",
    "#Defining the machine learning models by creating their objects\n",
    "model1 = LogisticRegression()\n",
    "model2 = DecisionTreeClassifier(max_depth = 5)\n",
    "# 21 would be total nodes in a decision tree\n",
    "# max_depth = depth of tree based on 21 nodes\n",
    "model3 = SVC()\n",
    "model4 = KNeighborsClassifier(n_neighbors = 6, metric = 'euclidean')"
   ]
  },
  {
   "cell_type": "code",
   "execution_count": 16,
   "id": "0ecd1682",
   "metadata": {},
   "outputs": [
    {
     "data": {
      "text/html": [
       "<style>#sk-container-id-1 {color: black;background-color: white;}#sk-container-id-1 pre{padding: 0;}#sk-container-id-1 div.sk-toggleable {background-color: white;}#sk-container-id-1 label.sk-toggleable__label {cursor: pointer;display: block;width: 100%;margin-bottom: 0;padding: 0.3em;box-sizing: border-box;text-align: center;}#sk-container-id-1 label.sk-toggleable__label-arrow:before {content: \"▸\";float: left;margin-right: 0.25em;color: #696969;}#sk-container-id-1 label.sk-toggleable__label-arrow:hover:before {color: black;}#sk-container-id-1 div.sk-estimator:hover label.sk-toggleable__label-arrow:before {color: black;}#sk-container-id-1 div.sk-toggleable__content {max-height: 0;max-width: 0;overflow: hidden;text-align: left;background-color: #f0f8ff;}#sk-container-id-1 div.sk-toggleable__content pre {margin: 0.2em;color: black;border-radius: 0.25em;background-color: #f0f8ff;}#sk-container-id-1 input.sk-toggleable__control:checked~div.sk-toggleable__content {max-height: 200px;max-width: 100%;overflow: auto;}#sk-container-id-1 input.sk-toggleable__control:checked~label.sk-toggleable__label-arrow:before {content: \"▾\";}#sk-container-id-1 div.sk-estimator input.sk-toggleable__control:checked~label.sk-toggleable__label {background-color: #d4ebff;}#sk-container-id-1 div.sk-label input.sk-toggleable__control:checked~label.sk-toggleable__label {background-color: #d4ebff;}#sk-container-id-1 input.sk-hidden--visually {border: 0;clip: rect(1px 1px 1px 1px);clip: rect(1px, 1px, 1px, 1px);height: 1px;margin: -1px;overflow: hidden;padding: 0;position: absolute;width: 1px;}#sk-container-id-1 div.sk-estimator {font-family: monospace;background-color: #f0f8ff;border: 1px dotted black;border-radius: 0.25em;box-sizing: border-box;margin-bottom: 0.5em;}#sk-container-id-1 div.sk-estimator:hover {background-color: #d4ebff;}#sk-container-id-1 div.sk-parallel-item::after {content: \"\";width: 100%;border-bottom: 1px solid gray;flex-grow: 1;}#sk-container-id-1 div.sk-label:hover label.sk-toggleable__label {background-color: #d4ebff;}#sk-container-id-1 div.sk-serial::before {content: \"\";position: absolute;border-left: 1px solid gray;box-sizing: border-box;top: 0;bottom: 0;left: 50%;z-index: 0;}#sk-container-id-1 div.sk-serial {display: flex;flex-direction: column;align-items: center;background-color: white;padding-right: 0.2em;padding-left: 0.2em;position: relative;}#sk-container-id-1 div.sk-item {position: relative;z-index: 1;}#sk-container-id-1 div.sk-parallel {display: flex;align-items: stretch;justify-content: center;background-color: white;position: relative;}#sk-container-id-1 div.sk-item::before, #sk-container-id-1 div.sk-parallel-item::before {content: \"\";position: absolute;border-left: 1px solid gray;box-sizing: border-box;top: 0;bottom: 0;left: 50%;z-index: -1;}#sk-container-id-1 div.sk-parallel-item {display: flex;flex-direction: column;z-index: 1;position: relative;background-color: white;}#sk-container-id-1 div.sk-parallel-item:first-child::after {align-self: flex-end;width: 50%;}#sk-container-id-1 div.sk-parallel-item:last-child::after {align-self: flex-start;width: 50%;}#sk-container-id-1 div.sk-parallel-item:only-child::after {width: 0;}#sk-container-id-1 div.sk-dashed-wrapped {border: 1px dashed gray;margin: 0 0.4em 0.5em 0.4em;box-sizing: border-box;padding-bottom: 0.4em;background-color: white;}#sk-container-id-1 div.sk-label label {font-family: monospace;font-weight: bold;display: inline-block;line-height: 1.2em;}#sk-container-id-1 div.sk-label-container {text-align: center;}#sk-container-id-1 div.sk-container {/* jupyter's `normalize.less` sets `[hidden] { display: none; }` but bootstrap.min.css set `[hidden] { display: none !important; }` so we also need the `!important` here to be able to override the default hidden behavior on the sphinx rendered scikit-learn.org. See: https://github.com/scikit-learn/scikit-learn/issues/21755 */display: inline-block !important;position: relative;}#sk-container-id-1 div.sk-text-repr-fallback {display: none;}</style><div id=\"sk-container-id-1\" class=\"sk-top-container\"><div class=\"sk-text-repr-fallback\"><pre>LogisticRegression()</pre><b>In a Jupyter environment, please rerun this cell to show the HTML representation or trust the notebook. <br />On GitHub, the HTML representation is unable to render, please try loading this page with nbviewer.org.</b></div><div class=\"sk-container\" hidden><div class=\"sk-item\"><div class=\"sk-estimator sk-toggleable\"><input class=\"sk-toggleable__control sk-hidden--visually\" id=\"sk-estimator-id-1\" type=\"checkbox\" checked><label for=\"sk-estimator-id-1\" class=\"sk-toggleable__label sk-toggleable__label-arrow\">LogisticRegression</label><div class=\"sk-toggleable__content\"><pre>LogisticRegression()</pre></div></div></div></div></div>"
      ],
      "text/plain": [
       "LogisticRegression()"
      ]
     },
     "execution_count": 16,
     "metadata": {},
     "output_type": "execute_result"
    }
   ],
   "source": [
    "# We need to fit the models towards the training dataset\n",
    "#Training the machine learning models\n",
    "model1.fit(X_train, y_train) # LR"
   ]
  },
  {
   "cell_type": "code",
   "execution_count": 17,
   "id": "e5f44b9d",
   "metadata": {},
   "outputs": [
    {
     "data": {
      "text/html": [
       "<style>#sk-container-id-2 {color: black;background-color: white;}#sk-container-id-2 pre{padding: 0;}#sk-container-id-2 div.sk-toggleable {background-color: white;}#sk-container-id-2 label.sk-toggleable__label {cursor: pointer;display: block;width: 100%;margin-bottom: 0;padding: 0.3em;box-sizing: border-box;text-align: center;}#sk-container-id-2 label.sk-toggleable__label-arrow:before {content: \"▸\";float: left;margin-right: 0.25em;color: #696969;}#sk-container-id-2 label.sk-toggleable__label-arrow:hover:before {color: black;}#sk-container-id-2 div.sk-estimator:hover label.sk-toggleable__label-arrow:before {color: black;}#sk-container-id-2 div.sk-toggleable__content {max-height: 0;max-width: 0;overflow: hidden;text-align: left;background-color: #f0f8ff;}#sk-container-id-2 div.sk-toggleable__content pre {margin: 0.2em;color: black;border-radius: 0.25em;background-color: #f0f8ff;}#sk-container-id-2 input.sk-toggleable__control:checked~div.sk-toggleable__content {max-height: 200px;max-width: 100%;overflow: auto;}#sk-container-id-2 input.sk-toggleable__control:checked~label.sk-toggleable__label-arrow:before {content: \"▾\";}#sk-container-id-2 div.sk-estimator input.sk-toggleable__control:checked~label.sk-toggleable__label {background-color: #d4ebff;}#sk-container-id-2 div.sk-label input.sk-toggleable__control:checked~label.sk-toggleable__label {background-color: #d4ebff;}#sk-container-id-2 input.sk-hidden--visually {border: 0;clip: rect(1px 1px 1px 1px);clip: rect(1px, 1px, 1px, 1px);height: 1px;margin: -1px;overflow: hidden;padding: 0;position: absolute;width: 1px;}#sk-container-id-2 div.sk-estimator {font-family: monospace;background-color: #f0f8ff;border: 1px dotted black;border-radius: 0.25em;box-sizing: border-box;margin-bottom: 0.5em;}#sk-container-id-2 div.sk-estimator:hover {background-color: #d4ebff;}#sk-container-id-2 div.sk-parallel-item::after {content: \"\";width: 100%;border-bottom: 1px solid gray;flex-grow: 1;}#sk-container-id-2 div.sk-label:hover label.sk-toggleable__label {background-color: #d4ebff;}#sk-container-id-2 div.sk-serial::before {content: \"\";position: absolute;border-left: 1px solid gray;box-sizing: border-box;top: 0;bottom: 0;left: 50%;z-index: 0;}#sk-container-id-2 div.sk-serial {display: flex;flex-direction: column;align-items: center;background-color: white;padding-right: 0.2em;padding-left: 0.2em;position: relative;}#sk-container-id-2 div.sk-item {position: relative;z-index: 1;}#sk-container-id-2 div.sk-parallel {display: flex;align-items: stretch;justify-content: center;background-color: white;position: relative;}#sk-container-id-2 div.sk-item::before, #sk-container-id-2 div.sk-parallel-item::before {content: \"\";position: absolute;border-left: 1px solid gray;box-sizing: border-box;top: 0;bottom: 0;left: 50%;z-index: -1;}#sk-container-id-2 div.sk-parallel-item {display: flex;flex-direction: column;z-index: 1;position: relative;background-color: white;}#sk-container-id-2 div.sk-parallel-item:first-child::after {align-self: flex-end;width: 50%;}#sk-container-id-2 div.sk-parallel-item:last-child::after {align-self: flex-start;width: 50%;}#sk-container-id-2 div.sk-parallel-item:only-child::after {width: 0;}#sk-container-id-2 div.sk-dashed-wrapped {border: 1px dashed gray;margin: 0 0.4em 0.5em 0.4em;box-sizing: border-box;padding-bottom: 0.4em;background-color: white;}#sk-container-id-2 div.sk-label label {font-family: monospace;font-weight: bold;display: inline-block;line-height: 1.2em;}#sk-container-id-2 div.sk-label-container {text-align: center;}#sk-container-id-2 div.sk-container {/* jupyter's `normalize.less` sets `[hidden] { display: none; }` but bootstrap.min.css set `[hidden] { display: none !important; }` so we also need the `!important` here to be able to override the default hidden behavior on the sphinx rendered scikit-learn.org. See: https://github.com/scikit-learn/scikit-learn/issues/21755 */display: inline-block !important;position: relative;}#sk-container-id-2 div.sk-text-repr-fallback {display: none;}</style><div id=\"sk-container-id-2\" class=\"sk-top-container\"><div class=\"sk-text-repr-fallback\"><pre>DecisionTreeClassifier(max_depth=5)</pre><b>In a Jupyter environment, please rerun this cell to show the HTML representation or trust the notebook. <br />On GitHub, the HTML representation is unable to render, please try loading this page with nbviewer.org.</b></div><div class=\"sk-container\" hidden><div class=\"sk-item\"><div class=\"sk-estimator sk-toggleable\"><input class=\"sk-toggleable__control sk-hidden--visually\" id=\"sk-estimator-id-2\" type=\"checkbox\" checked><label for=\"sk-estimator-id-2\" class=\"sk-toggleable__label sk-toggleable__label-arrow\">DecisionTreeClassifier</label><div class=\"sk-toggleable__content\"><pre>DecisionTreeClassifier(max_depth=5)</pre></div></div></div></div></div>"
      ],
      "text/plain": [
       "DecisionTreeClassifier(max_depth=5)"
      ]
     },
     "execution_count": 17,
     "metadata": {},
     "output_type": "execute_result"
    }
   ],
   "source": [
    "model2.fit(X_train, y_train) # DTC"
   ]
  },
  {
   "cell_type": "code",
   "execution_count": 18,
   "id": "d41801c2",
   "metadata": {},
   "outputs": [
    {
     "data": {
      "text/html": [
       "<style>#sk-container-id-3 {color: black;background-color: white;}#sk-container-id-3 pre{padding: 0;}#sk-container-id-3 div.sk-toggleable {background-color: white;}#sk-container-id-3 label.sk-toggleable__label {cursor: pointer;display: block;width: 100%;margin-bottom: 0;padding: 0.3em;box-sizing: border-box;text-align: center;}#sk-container-id-3 label.sk-toggleable__label-arrow:before {content: \"▸\";float: left;margin-right: 0.25em;color: #696969;}#sk-container-id-3 label.sk-toggleable__label-arrow:hover:before {color: black;}#sk-container-id-3 div.sk-estimator:hover label.sk-toggleable__label-arrow:before {color: black;}#sk-container-id-3 div.sk-toggleable__content {max-height: 0;max-width: 0;overflow: hidden;text-align: left;background-color: #f0f8ff;}#sk-container-id-3 div.sk-toggleable__content pre {margin: 0.2em;color: black;border-radius: 0.25em;background-color: #f0f8ff;}#sk-container-id-3 input.sk-toggleable__control:checked~div.sk-toggleable__content {max-height: 200px;max-width: 100%;overflow: auto;}#sk-container-id-3 input.sk-toggleable__control:checked~label.sk-toggleable__label-arrow:before {content: \"▾\";}#sk-container-id-3 div.sk-estimator input.sk-toggleable__control:checked~label.sk-toggleable__label {background-color: #d4ebff;}#sk-container-id-3 div.sk-label input.sk-toggleable__control:checked~label.sk-toggleable__label {background-color: #d4ebff;}#sk-container-id-3 input.sk-hidden--visually {border: 0;clip: rect(1px 1px 1px 1px);clip: rect(1px, 1px, 1px, 1px);height: 1px;margin: -1px;overflow: hidden;padding: 0;position: absolute;width: 1px;}#sk-container-id-3 div.sk-estimator {font-family: monospace;background-color: #f0f8ff;border: 1px dotted black;border-radius: 0.25em;box-sizing: border-box;margin-bottom: 0.5em;}#sk-container-id-3 div.sk-estimator:hover {background-color: #d4ebff;}#sk-container-id-3 div.sk-parallel-item::after {content: \"\";width: 100%;border-bottom: 1px solid gray;flex-grow: 1;}#sk-container-id-3 div.sk-label:hover label.sk-toggleable__label {background-color: #d4ebff;}#sk-container-id-3 div.sk-serial::before {content: \"\";position: absolute;border-left: 1px solid gray;box-sizing: border-box;top: 0;bottom: 0;left: 50%;z-index: 0;}#sk-container-id-3 div.sk-serial {display: flex;flex-direction: column;align-items: center;background-color: white;padding-right: 0.2em;padding-left: 0.2em;position: relative;}#sk-container-id-3 div.sk-item {position: relative;z-index: 1;}#sk-container-id-3 div.sk-parallel {display: flex;align-items: stretch;justify-content: center;background-color: white;position: relative;}#sk-container-id-3 div.sk-item::before, #sk-container-id-3 div.sk-parallel-item::before {content: \"\";position: absolute;border-left: 1px solid gray;box-sizing: border-box;top: 0;bottom: 0;left: 50%;z-index: -1;}#sk-container-id-3 div.sk-parallel-item {display: flex;flex-direction: column;z-index: 1;position: relative;background-color: white;}#sk-container-id-3 div.sk-parallel-item:first-child::after {align-self: flex-end;width: 50%;}#sk-container-id-3 div.sk-parallel-item:last-child::after {align-self: flex-start;width: 50%;}#sk-container-id-3 div.sk-parallel-item:only-child::after {width: 0;}#sk-container-id-3 div.sk-dashed-wrapped {border: 1px dashed gray;margin: 0 0.4em 0.5em 0.4em;box-sizing: border-box;padding-bottom: 0.4em;background-color: white;}#sk-container-id-3 div.sk-label label {font-family: monospace;font-weight: bold;display: inline-block;line-height: 1.2em;}#sk-container-id-3 div.sk-label-container {text-align: center;}#sk-container-id-3 div.sk-container {/* jupyter's `normalize.less` sets `[hidden] { display: none; }` but bootstrap.min.css set `[hidden] { display: none !important; }` so we also need the `!important` here to be able to override the default hidden behavior on the sphinx rendered scikit-learn.org. See: https://github.com/scikit-learn/scikit-learn/issues/21755 */display: inline-block !important;position: relative;}#sk-container-id-3 div.sk-text-repr-fallback {display: none;}</style><div id=\"sk-container-id-3\" class=\"sk-top-container\"><div class=\"sk-text-repr-fallback\"><pre>SVC()</pre><b>In a Jupyter environment, please rerun this cell to show the HTML representation or trust the notebook. <br />On GitHub, the HTML representation is unable to render, please try loading this page with nbviewer.org.</b></div><div class=\"sk-container\" hidden><div class=\"sk-item\"><div class=\"sk-estimator sk-toggleable\"><input class=\"sk-toggleable__control sk-hidden--visually\" id=\"sk-estimator-id-3\" type=\"checkbox\" checked><label for=\"sk-estimator-id-3\" class=\"sk-toggleable__label sk-toggleable__label-arrow\">SVC</label><div class=\"sk-toggleable__content\"><pre>SVC()</pre></div></div></div></div></div>"
      ],
      "text/plain": [
       "SVC()"
      ]
     },
     "execution_count": 18,
     "metadata": {},
     "output_type": "execute_result"
    }
   ],
   "source": [
    "model3.fit(X_train, y_train) # SVC"
   ]
  },
  {
   "cell_type": "code",
   "execution_count": 19,
   "id": "48da2eee",
   "metadata": {},
   "outputs": [
    {
     "data": {
      "text/html": [
       "<style>#sk-container-id-4 {color: black;background-color: white;}#sk-container-id-4 pre{padding: 0;}#sk-container-id-4 div.sk-toggleable {background-color: white;}#sk-container-id-4 label.sk-toggleable__label {cursor: pointer;display: block;width: 100%;margin-bottom: 0;padding: 0.3em;box-sizing: border-box;text-align: center;}#sk-container-id-4 label.sk-toggleable__label-arrow:before {content: \"▸\";float: left;margin-right: 0.25em;color: #696969;}#sk-container-id-4 label.sk-toggleable__label-arrow:hover:before {color: black;}#sk-container-id-4 div.sk-estimator:hover label.sk-toggleable__label-arrow:before {color: black;}#sk-container-id-4 div.sk-toggleable__content {max-height: 0;max-width: 0;overflow: hidden;text-align: left;background-color: #f0f8ff;}#sk-container-id-4 div.sk-toggleable__content pre {margin: 0.2em;color: black;border-radius: 0.25em;background-color: #f0f8ff;}#sk-container-id-4 input.sk-toggleable__control:checked~div.sk-toggleable__content {max-height: 200px;max-width: 100%;overflow: auto;}#sk-container-id-4 input.sk-toggleable__control:checked~label.sk-toggleable__label-arrow:before {content: \"▾\";}#sk-container-id-4 div.sk-estimator input.sk-toggleable__control:checked~label.sk-toggleable__label {background-color: #d4ebff;}#sk-container-id-4 div.sk-label input.sk-toggleable__control:checked~label.sk-toggleable__label {background-color: #d4ebff;}#sk-container-id-4 input.sk-hidden--visually {border: 0;clip: rect(1px 1px 1px 1px);clip: rect(1px, 1px, 1px, 1px);height: 1px;margin: -1px;overflow: hidden;padding: 0;position: absolute;width: 1px;}#sk-container-id-4 div.sk-estimator {font-family: monospace;background-color: #f0f8ff;border: 1px dotted black;border-radius: 0.25em;box-sizing: border-box;margin-bottom: 0.5em;}#sk-container-id-4 div.sk-estimator:hover {background-color: #d4ebff;}#sk-container-id-4 div.sk-parallel-item::after {content: \"\";width: 100%;border-bottom: 1px solid gray;flex-grow: 1;}#sk-container-id-4 div.sk-label:hover label.sk-toggleable__label {background-color: #d4ebff;}#sk-container-id-4 div.sk-serial::before {content: \"\";position: absolute;border-left: 1px solid gray;box-sizing: border-box;top: 0;bottom: 0;left: 50%;z-index: 0;}#sk-container-id-4 div.sk-serial {display: flex;flex-direction: column;align-items: center;background-color: white;padding-right: 0.2em;padding-left: 0.2em;position: relative;}#sk-container-id-4 div.sk-item {position: relative;z-index: 1;}#sk-container-id-4 div.sk-parallel {display: flex;align-items: stretch;justify-content: center;background-color: white;position: relative;}#sk-container-id-4 div.sk-item::before, #sk-container-id-4 div.sk-parallel-item::before {content: \"\";position: absolute;border-left: 1px solid gray;box-sizing: border-box;top: 0;bottom: 0;left: 50%;z-index: -1;}#sk-container-id-4 div.sk-parallel-item {display: flex;flex-direction: column;z-index: 1;position: relative;background-color: white;}#sk-container-id-4 div.sk-parallel-item:first-child::after {align-self: flex-end;width: 50%;}#sk-container-id-4 div.sk-parallel-item:last-child::after {align-self: flex-start;width: 50%;}#sk-container-id-4 div.sk-parallel-item:only-child::after {width: 0;}#sk-container-id-4 div.sk-dashed-wrapped {border: 1px dashed gray;margin: 0 0.4em 0.5em 0.4em;box-sizing: border-box;padding-bottom: 0.4em;background-color: white;}#sk-container-id-4 div.sk-label label {font-family: monospace;font-weight: bold;display: inline-block;line-height: 1.2em;}#sk-container-id-4 div.sk-label-container {text-align: center;}#sk-container-id-4 div.sk-container {/* jupyter's `normalize.less` sets `[hidden] { display: none; }` but bootstrap.min.css set `[hidden] { display: none !important; }` so we also need the `!important` here to be able to override the default hidden behavior on the sphinx rendered scikit-learn.org. See: https://github.com/scikit-learn/scikit-learn/issues/21755 */display: inline-block !important;position: relative;}#sk-container-id-4 div.sk-text-repr-fallback {display: none;}</style><div id=\"sk-container-id-4\" class=\"sk-top-container\"><div class=\"sk-text-repr-fallback\"><pre>KNeighborsClassifier(metric=&#x27;euclidean&#x27;, n_neighbors=6)</pre><b>In a Jupyter environment, please rerun this cell to show the HTML representation or trust the notebook. <br />On GitHub, the HTML representation is unable to render, please try loading this page with nbviewer.org.</b></div><div class=\"sk-container\" hidden><div class=\"sk-item\"><div class=\"sk-estimator sk-toggleable\"><input class=\"sk-toggleable__control sk-hidden--visually\" id=\"sk-estimator-id-4\" type=\"checkbox\" checked><label for=\"sk-estimator-id-4\" class=\"sk-toggleable__label sk-toggleable__label-arrow\">KNeighborsClassifier</label><div class=\"sk-toggleable__content\"><pre>KNeighborsClassifier(metric=&#x27;euclidean&#x27;, n_neighbors=6)</pre></div></div></div></div></div>"
      ],
      "text/plain": [
       "KNeighborsClassifier(metric='euclidean', n_neighbors=6)"
      ]
     },
     "execution_count": 19,
     "metadata": {},
     "output_type": "execute_result"
    }
   ],
   "source": [
    "model4.fit(X_train, y_train) # KNN"
   ]
  },
  {
   "cell_type": "code",
   "execution_count": 20,
   "id": "a6a2e899",
   "metadata": {},
   "outputs": [],
   "source": [
    "# We are predicting by using testing dataset\n",
    "#Making the prediction\n",
    "y_pred1 = model1.predict(X_test) # LR\n",
    "y_pred2 = model2.predict(X_test) # DTC\n",
    "y_pred3 = model3.predict(X_test) # SVC\n",
    "y_pred4 = model4.predict(X_test) # KNN"
   ]
  },
  {
   "cell_type": "code",
   "execution_count": 21,
   "id": "cebbeddb",
   "metadata": {},
   "outputs": [
    {
     "name": "stdout",
     "output_type": "stream",
     "text": [
      "Actual values of the testing data:  [0 0 0 0 0 0 0 0 0 0 1 1 1 1]\n",
      "Prediction by LR: [1 1 1 1 1 1 1 1 1 1 0 0 0 1]\n",
      "Prediction by DT: [0 0 1 0 1 0 0 0 1 0 1 1 1 1]\n",
      "Prediction by SVC: [1 1 1 1 1 1 1 1 1 1 1 1 1 1]\n",
      "Prediction by KNN: [0 0 0 0 0 0 0 0 0 0 0 0 0 1]\n"
     ]
    }
   ],
   "source": [
    "print (\"Actual values of the testing data: \", y_test)\n",
    "print (\"Prediction by LR:\", y_pred1)\n",
    "print (\"Prediction by DT:\", y_pred2)\n",
    "print (\"Prediction by SVC:\", y_pred3)\n",
    "print (\"Prediction by KNN:\", y_pred4)"
   ]
  },
  {
   "cell_type": "code",
   "execution_count": 22,
   "id": "1b6794bf",
   "metadata": {},
   "outputs": [],
   "source": [
    "# We are Confusion Matric to measure the performance models\n",
    "#Confusion matrix\n",
    "\n",
    "from sklearn.metrics import confusion_matrix\n",
    "\n",
    "cm_LogisticRegression = confusion_matrix(y_test, y_pred1)\n",
    "cm_DecisionTree = confusion_matrix(y_test, y_pred2)\n",
    "cm_SupportVectorClass = confusion_matrix(y_test, y_pred3)\n",
    "cm_KNN = confusion_matrix(y_test, y_pred4)"
   ]
  },
  {
   "cell_type": "code",
   "execution_count": 23,
   "id": "27dba9d6",
   "metadata": {},
   "outputs": [
    {
     "name": "stdout",
     "output_type": "stream",
     "text": [
      "[[ 0 10]\n",
      " [ 3  1]]\n",
      "[[7 3]\n",
      " [0 4]]\n",
      "[[ 0 10]\n",
      " [ 0  4]]\n",
      "[[10  0]\n",
      " [ 3  1]]\n"
     ]
    }
   ],
   "source": [
    "print (cm_LogisticRegression)\n",
    "print (cm_DecisionTree)\n",
    "print (cm_SupportVectorClass)\n",
    "print (cm_KNN)"
   ]
  },
  {
   "cell_type": "code",
   "execution_count": 24,
   "id": "f3c97b78",
   "metadata": {},
   "outputs": [
    {
     "name": "stdout",
     "output_type": "stream",
     "text": [
      "Accuracy of Logistic Regression Model in %: 7.142857142857142\n",
      "Accuracy of Decision Tree Model in %: 78.57142857142857\n",
      "Accuracy of Support Vector Machine Model in %: 28.57142857142857\n",
      "Accuracy of KNN Model in %: 78.57142857142857\n"
     ]
    }
   ],
   "source": [
    "# When we need to calculate the accuracy of the model under classification \n",
    "# always use testing dataset to get the result\n",
    "\n",
    "# we are measuring the performance of the model by accuracy score\n",
    "from sklearn.metrics import accuracy_score\n",
    "\n",
    "#accuracy scores\n",
    "log_acc = accuracy_score(y_pred1, y_test) #(prediction value , actual value)\n",
    "dt_acc = accuracy_score(y_pred2, y_test)\n",
    "svm_acc = accuracy_score(y_pred3, y_test)\n",
    "knn_acc = accuracy_score(y_pred4, y_test)\n",
    "\n",
    "print (\"Accuracy of Logistic Regression Model in %:\",log_acc*100)\n",
    "print (\"Accuracy of Decision Tree Model in %:\",dt_acc*100)\n",
    "print(\"Accuracy of Support Vector Machine Model in %:\",svm_acc*100)\n",
    "print(\"Accuracy of KNN Model in %:\",knn_acc*100)"
   ]
  },
  {
   "cell_type": "code",
   "execution_count": 25,
   "id": "7e1b971d",
   "metadata": {},
   "outputs": [],
   "source": [
    "# The model which does have accuracy score less than 100%, it means the model contains some errors and\n",
    "# this is the reason it it known as weak learner model."
   ]
  },
  {
   "cell_type": "code",
   "execution_count": 27,
   "id": "4c8c248a",
   "metadata": {},
   "outputs": [
    {
     "data": {
      "text/plain": [
       "'\\nEnsemble Learning Model\\n\\nIn this work, we have defined each of the four machine learning models 5 times that results in a combination of a total of \\n(4 ML models x 5 times)=20 weak learners. Then finally, then Max Voting Classifier method is used where the class which has\\nbeen predicted mostly by the weak learners will be the final class prediction of the ensemble model.\\n\\n\\n'"
      ]
     },
     "execution_count": 27,
     "metadata": {},
     "output_type": "execute_result"
    }
   ],
   "source": [
    "'''\n",
    "Ensemble Learning Model\n",
    "\n",
    "In this work, we have defined each of the four machine learning models 5 times that results in a combination of a total of \n",
    "(4 ML models x 5 times)=20 weak learners. Then finally, then Max Voting Classifier method is used where the class which has\n",
    "been predicted mostly by the weak learners will be the final class prediction of the ensemble model.\n",
    "\n",
    "\n",
    "'''"
   ]
  },
  {
   "cell_type": "code",
   "execution_count": 28,
   "id": "5c304353",
   "metadata": {},
   "outputs": [
    {
     "data": {
      "text/plain": [
       "[('logistic1', LogisticRegression()),\n",
       " ('logistic2', LogisticRegression()),\n",
       " ('logistic3', LogisticRegression()),\n",
       " ('logistic4', LogisticRegression()),\n",
       " ('logistic5', LogisticRegression())]"
      ]
     },
     "execution_count": 28,
     "metadata": {},
     "output_type": "execute_result"
    }
   ],
   "source": [
    "# Defining Hybrid (becuase we have 4 differet models) Ensemble Learning Model\n",
    "# means we are aggregating all 4 models as a one group (Ensemble)\n",
    "# create the sub-models\n",
    "# we'll apply logistic regression on the models above to create sub models which would a combination of two models, ensemble!\n",
    "\n",
    "estimators = []\n",
    "# estimators is a variable and it contains or append all the models details in a list.\n",
    "\n",
    "# Defining 5 Logistic Regression Models\n",
    "# model11, model12, model13, model14, model15 are the objects of the LR\n",
    "model11 = LogisticRegression()\n",
    "estimators.append(('logistic1', model11))\n",
    "model12 = LogisticRegression()\n",
    "estimators.append(('logistic2', model12))\n",
    "model13 = LogisticRegression()\n",
    "estimators.append(('logistic3', model13))\n",
    "model14 = LogisticRegression()\n",
    "estimators.append(('logistic4', model14))\n",
    "model15 = LogisticRegression()\n",
    "estimators.append(('logistic5', model15))\n",
    "\n",
    "# Printing the values of the estimators\n",
    "estimators"
   ]
  },
  {
   "cell_type": "code",
   "execution_count": 29,
   "id": "3c708e65",
   "metadata": {},
   "outputs": [
    {
     "data": {
      "text/plain": [
       "[('logistic1', LogisticRegression()),\n",
       " ('logistic2', LogisticRegression()),\n",
       " ('logistic3', LogisticRegression()),\n",
       " ('logistic4', LogisticRegression()),\n",
       " ('logistic5', LogisticRegression()),\n",
       " ('cart1', DecisionTreeClassifier(max_depth=4)),\n",
       " ('cart2', DecisionTreeClassifier(max_depth=3)),\n",
       " ('cart3', DecisionTreeClassifier(max_depth=6)),\n",
       " ('cart4', DecisionTreeClassifier(max_depth=7)),\n",
       " ('cart5', DecisionTreeClassifier(max_depth=2))]"
      ]
     },
     "execution_count": 29,
     "metadata": {},
     "output_type": "execute_result"
    }
   ],
   "source": [
    "# Defining 5 Decision Tree Classifiers\n",
    "# here we apply decision tree on the models \n",
    "\n",
    "# CART = Classification and Regression Technique\n",
    "\n",
    "# Decision tree is the best example of CART becuase it supports the both approaches \n",
    "# on the same datasets at the same time.\n",
    "\n",
    "model16 = DecisionTreeClassifier(max_depth = 4)\n",
    "estimators.append(('cart1', model16))\n",
    "model17 = DecisionTreeClassifier(max_depth = 3)\n",
    "estimators.append(('cart2', model17))\n",
    "model18 = DecisionTreeClassifier(max_depth = 6)\n",
    "estimators.append(('cart3', model18))\n",
    "model19 = DecisionTreeClassifier(max_depth = 7)\n",
    "estimators.append(('cart4', model19))\n",
    "model20 = DecisionTreeClassifier(max_depth = 2)\n",
    "estimators.append(('cart5', model20))\n",
    "\n",
    "estimators"
   ]
  },
  {
   "cell_type": "code",
   "execution_count": 30,
   "id": "c6558c9a",
   "metadata": {},
   "outputs": [
    {
     "data": {
      "text/plain": [
       "[('logistic1', LogisticRegression()),\n",
       " ('logistic2', LogisticRegression()),\n",
       " ('logistic3', LogisticRegression()),\n",
       " ('logistic4', LogisticRegression()),\n",
       " ('logistic5', LogisticRegression()),\n",
       " ('cart1', DecisionTreeClassifier(max_depth=4)),\n",
       " ('cart2', DecisionTreeClassifier(max_depth=3)),\n",
       " ('cart3', DecisionTreeClassifier(max_depth=6)),\n",
       " ('cart4', DecisionTreeClassifier(max_depth=7)),\n",
       " ('cart5', DecisionTreeClassifier(max_depth=2)),\n",
       " ('svm1', SVC(kernel='linear')),\n",
       " ('svm2', SVC(kernel='poly')),\n",
       " ('svm3', SVC()),\n",
       " ('svm4', SVC()),\n",
       " ('svm5', SVC(kernel='linear'))]"
      ]
     },
     "execution_count": 30,
     "metadata": {},
     "output_type": "execute_result"
    }
   ],
   "source": [
    "#Defining 5 Support Vector Classifiers\n",
    "model21 = SVC(kernel = 'linear')\n",
    "estimators.append(('svm1', model21))\n",
    "model22 = SVC(kernel = 'poly')\n",
    "estimators.append(('svm2', model22))\n",
    "model23 = SVC(kernel = 'rbf')\n",
    "estimators.append(('svm3', model23))\n",
    "model24 = SVC(kernel = 'rbf')\n",
    "estimators.append(('svm4', model24))\n",
    "model25 = SVC(kernel = 'linear')\n",
    "estimators.append(('svm5', model25))\n",
    "\n",
    "estimators\n"
   ]
  },
  {
   "cell_type": "code",
   "execution_count": 31,
   "id": "e3e208f2",
   "metadata": {},
   "outputs": [
    {
     "data": {
      "text/plain": [
       "[('logistic1', LogisticRegression()),\n",
       " ('logistic2', LogisticRegression()),\n",
       " ('logistic3', LogisticRegression()),\n",
       " ('logistic4', LogisticRegression()),\n",
       " ('logistic5', LogisticRegression()),\n",
       " ('cart1', DecisionTreeClassifier(max_depth=4)),\n",
       " ('cart2', DecisionTreeClassifier(max_depth=3)),\n",
       " ('cart3', DecisionTreeClassifier(max_depth=6)),\n",
       " ('cart4', DecisionTreeClassifier(max_depth=7)),\n",
       " ('cart5', DecisionTreeClassifier(max_depth=2)),\n",
       " ('svm1', SVC(kernel='linear')),\n",
       " ('svm2', SVC(kernel='poly')),\n",
       " ('svm3', SVC()),\n",
       " ('svm4', SVC()),\n",
       " ('svm5', SVC(kernel='linear')),\n",
       " ('knn1', KNeighborsClassifier(metric='euclidean', n_neighbors=3)),\n",
       " ('knn2', KNeighborsClassifier(metric='euclidean')),\n",
       " ('knn3', KNeighborsClassifier(metric='euclidean', n_neighbors=6)),\n",
       " ('knn4', KNeighborsClassifier(metric='euclidean', n_neighbors=4)),\n",
       " ('knn5', KNeighborsClassifier(metric='euclidean', n_neighbors=7))]"
      ]
     },
     "execution_count": 31,
     "metadata": {},
     "output_type": "execute_result"
    }
   ],
   "source": [
    "#Defining 5 K-NN classifiers\n",
    "model26 = KNeighborsClassifier(n_neighbors = 3, metric = 'euclidean')\n",
    "estimators.append(('knn1', model26))\n",
    "model27 = KNeighborsClassifier(n_neighbors = 5, metric = 'euclidean')\n",
    "estimators.append(('knn2', model27))\n",
    "model28 = KNeighborsClassifier(n_neighbors = 6, metric = 'euclidean')\n",
    "estimators.append(('knn3', model28))\n",
    "model29 = KNeighborsClassifier(n_neighbors = 4, metric = 'euclidean')\n",
    "estimators.append(('knn4', model29))\n",
    "model30 = KNeighborsClassifier(n_neighbors = 7, metric = 'euclidean')\n",
    "estimators.append(('knn5', model30))\n",
    "\n",
    "estimators\n",
    "\n",
    "# At the last estimators contains the all the models details in terms of their objects values\n",
    "# ans it stores the detail in a group (list type variable)"
   ]
  },
  {
   "cell_type": "code",
   "execution_count": 32,
   "id": "8bb651b4",
   "metadata": {},
   "outputs": [
    {
     "name": "stdout",
     "output_type": "stream",
     "text": [
      "[0 0 0 0 0 0 0 0 0 0 1 1 1 1]\n",
      "[0 0 1 0 1 0 0 0 1 0 1 1 0 1]\n"
     ]
    }
   ],
   "source": [
    "# At the last we need to ensemble or aggregate our models by using estimators variable\n",
    "# and fit the new model with estimators variable\n",
    "\n",
    "# Defining the ensemble model\n",
    "\n",
    "# Here we are using votingclassifier because it is basic ensemble learning model\n",
    "# others are bagging classifier (Random Forest) and boosing classifier(ADABOOST)\n",
    "\n",
    "# Here we are not able to use Random Forest classifier \n",
    "# because all models must be followed by decision trees\n",
    "\n",
    "from sklearn.ensemble import VotingClassifier\n",
    "\n",
    "# we need to pass an estimator variable and that must contain all the models as our desire\n",
    "ensemble = VotingClassifier(estimators) \n",
    "\n",
    "# Like the other models we need to fit the ensemble model with same training dataset\n",
    "ensemble.fit(X_train, y_train)\n",
    "\n",
    "# we need to predict the ensemble model like others with same testing dataset\n",
    "y_pred = ensemble.predict(X_test)\n",
    "\n",
    "print (y_test) # actual values of testing data\n",
    "print (y_pred) # predicted values by the ensemble model using voting classifier "
   ]
  },
  {
   "cell_type": "code",
   "execution_count": null,
   "id": "2e514667",
   "metadata": {},
   "outputs": [],
   "source": []
  }
 ],
 "metadata": {
  "kernelspec": {
   "display_name": "Python 3 (ipykernel)",
   "language": "python",
   "name": "python3"
  },
  "language_info": {
   "codemirror_mode": {
    "name": "ipython",
    "version": 3
   },
   "file_extension": ".py",
   "mimetype": "text/x-python",
   "name": "python",
   "nbconvert_exporter": "python",
   "pygments_lexer": "ipython3",
   "version": "3.10.7"
  }
 },
 "nbformat": 4,
 "nbformat_minor": 5
}
